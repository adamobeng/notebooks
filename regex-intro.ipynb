{
 "metadata": {
  "name": "regex-intro"
 },
 "nbformat": 3,
 "nbformat_minor": 0,
 "worksheets": [
  {
   "cells": [
    {
     "cell_type": "markdown",
     "metadata": {},
     "source": [
      "# Introduction to Regular Expressions\n",
      "\n",
      "[Regular expressions](http://en.wikipedia.org/wiki/Regular_expressions) (or regex) are a powerful tool for working with text.\n",
      "Regex show up all over the place: at the command line with tools like [grep](http://en.wikipedia.org/wiki/Grep) and in many programming languages, especially scripting languages. \n",
      "Here we'll be demonstrating the use of regex in Python.\n",
      "\n",
      "Python is pretty good for working with strings even without regex. \n",
      "See for example all of the [string methods](http://docs.python.org/library/stdtypes.html#string-methods) available. \n",
      "With Python strings you can do text search and replace in much the same way you do in a word processor.\n",
      "For example, you can search for the string 'spma' in a larger string and replace it with 'spam' using the [replace](http://docs.python.org/library/stdtypes.html#str.replace) method.\n",
      "This is limited to searching for literal strings, though. \n",
      "Sometimes you want to search for a *pattern*, for example a date in the format '##/##/####' where you don't know the actual values.\n",
      "That's where regex can help.\n",
      "\n",
      "As an example let's imagine you are processing a file with data like this:\n",
      "\n",
      "<pre>\n",
      "    Site    Date    Evil (millivaders)\n",
      "    ----    ----    ------------------\n",
      "    Baker 1 2009-11-17      1223.0\n",
      "    Baker 1 2010-06-24      1122.7\n",
      "    Baker 2 2009-07-24      2819.0\n",
      "    Baker 2 2010-08-25      2971.6\n",
      "    Baker 1 2011-01-05      1410.0\n",
      "    Baker 2 2010-09-04      4671.6\n",
      "</pre>\n",
      "\n",
      "You want to loop over the lines in this file and on each line extract the location, date, and evil measurement. Let's set up the data then start with extracting the date."
     ]
    },
    {
     "cell_type": "code",
     "collapsed": false,
     "input": [
      "# Location Date Evil\n",
      "data1 = ['Baker 1 2009-11-17       1223.0',\n",
      "         'Baker 1 2010-06-24       1122.7',\n",
      "         'Baker 2 2009-07-24       2819.0',\n",
      "         'Baker 2 2010-08-25       2971.6',\n",
      "         'Baker 1 2011-01-05       1410.0',\n",
      "         'Baker 2 2010-09-04       4671.6']"
     ],
     "language": "python",
     "metadata": {},
     "outputs": [],
     "prompt_number": 29
    },
    {
     "cell_type": "markdown",
     "metadata": {},
     "source": [
      "## Extracting the Date\n",
      "\n",
      "Say you want to extract just the date. A common strategy for splitting data fields in strings is to use the [split method](http://docs.python.org/library/stdtypes.html#str.split), but here the location name 'Baker 1' contains a space so it will be split too:"
     ]
    },
    {
     "cell_type": "code",
     "collapsed": false,
     "input": [
      "print data1[0].split()"
     ],
     "language": "python",
     "metadata": {},
     "outputs": [
      {
       "output_type": "stream",
       "stream": "stdout",
       "text": [
        "['Baker', '1', '2009-11-17', '1223.0']\n"
       ]
      }
     ],
     "prompt_number": 30
    },
    {
     "cell_type": "markdown",
     "metadata": {},
     "source": [
      "We could probably make a solution using basic Python but dealing with the different possibilties will get complicated fast. The dates in these data records follow a consistent pattern: four digit year, dash, two digit month, dash, two digit day. If we could search for that pattern we get the date right away. With regex we can specify a *pattern* to look for, not just a literal string.\n",
      "\n",
      "Regex are written as strings in which some characters have special meanings (much like format strings). As you'll see regex strings can look cryptic and they are sort of like a language unto themselves. But they can be read one piece at a time and that's how we'll start building them."
     ]
    },
    {
     "cell_type": "markdown",
     "metadata": {},
     "source": [
      "### The Dot\n",
      "Let's look at the date pattern again: four characters, dash, two characters, dash, two characters. In regular expressions the character '`.`' (dot) stands for any character, so we can represent the date pattern as '`....-..-..`'. Let's see how that works in practice:"
     ]
    },
    {
     "cell_type": "code",
     "collapsed": false,
     "input": [
      "# to use regular expressions in Python we import the re module\n",
      "import re\n",
      "\n",
      "# most of the functions in re are called with the regex pattern first,\n",
      "# followed by the string in which to search\n",
      "re.findall('....-..-..', data1[0])"
     ],
     "language": "python",
     "metadata": {},
     "outputs": [
      {
       "output_type": "pyout",
       "prompt_number": 31,
       "text": [
        "['2009-11-17']"
       ]
      }
     ],
     "prompt_number": 31
    },
    {
     "cell_type": "markdown",
     "metadata": {},
     "source": [
      "Hey, that worked! [re.findall](http://docs.python.org/2/library/re.html#re.findall) returns a list of all the substrings that match the regex. "
     ]
    },
    {
     "cell_type": "markdown",
     "metadata": {},
     "source": [
      "### Matching Just Digits\n",
      "But what if there is a location name with the same pattern, say 'Stratford-on-Avon'?"
     ]
    },
    {
     "cell_type": "code",
     "collapsed": false,
     "input": [
      "line = 'Stratford-on-Avon 2010-03-23 1324.4'\n",
      "re.findall('....-..-..', line)"
     ],
     "language": "python",
     "metadata": {},
     "outputs": [
      {
       "output_type": "pyout",
       "prompt_number": 32,
       "text": [
        "['ford-on-Av', '2010-03-23']"
       ]
      }
     ],
     "prompt_number": 32
    },
    {
     "cell_type": "markdown",
     "metadata": {},
     "source": [
      "The dot character matches *anything* (even spaces), so it has picked up the substring `'ford-on-Av'` since it has four characters, a dash, two characters, a dash, and two more characaters. One way to get around this is to be more specific. The date doesn't have just any characters, it only has numbers. To match a number in a regex we can use the special character '`\\d`', so let's try replacing the dots with '`\\d`':"
     ]
    },
    {
     "cell_type": "code",
     "collapsed": false,
     "input": [
      "line = 'Stratford-on-Avon 2010-03-23 1324.4'\n",
      "re.findall('\\d\\d\\d\\d-\\d\\d-\\d\\d', line)"
     ],
     "language": "python",
     "metadata": {},
     "outputs": [
      {
       "output_type": "pyout",
       "prompt_number": 33,
       "text": [
        "['2010-03-23']"
       ]
      }
     ],
     "prompt_number": 33
    },
    {
     "cell_type": "markdown",
     "metadata": {},
     "source": [
      "Back on track! Regex are full of special symbols like this. We'll cover some of them here, but not all of them. To learn more you can read about [regular expression syntax](http://docs.python.org/library/re.html#regular-expression-syntax) in the Python documentation and in many places on the web. (Try a web search for 'regex cheat sheet'.)"
     ]
    },
    {
     "cell_type": "markdown",
     "metadata": {},
     "source": [
      "### Or and Brackets\n",
      "\n",
      "Not all month and day numbers have two numbers, we've been assuming that, for example, March is always written as '`03`' with a leading zero. But whoever typed up all these datasets probably wasn't that careful and might have forgotten to do that all the time. What if the date is written as '`2010-3-23`'?"
     ]
    },
    {
     "cell_type": "code",
     "collapsed": false,
     "input": [
      "line = 'Stratford-on-Avon 2010-3-23 1324.4'\n",
      "re.findall('\\d\\d\\d\\d-\\d\\d-\\d\\d', line)"
     ],
     "language": "python",
     "metadata": {},
     "outputs": [
      {
       "output_type": "pyout",
       "prompt_number": 34,
       "text": [
        "[]"
       ]
      }
     ],
     "prompt_number": 34
    },
    {
     "cell_type": "markdown",
     "metadata": {},
     "source": [
      "That didn't match anything because our regex is looking for two characters in the month. One thing we can do is have two regex patterns, one for when the month has one day and another for when the month has two characters. Regex patterns can be combined with the '`|`' character and the regex '`x|y`' means \"match either '`x`' or '`y`'\". Let's try it with the date:"
     ]
    },
    {
     "cell_type": "code",
     "collapsed": false,
     "input": [
      "line = 'Stratford-on-Avon 2010-3-23 1324.4'\n",
      "re.findall('\\d\\d\\d\\d-\\d-\\d\\d|\\d\\d\\d\\d-\\d\\d-\\d\\d', line)"
     ],
     "language": "python",
     "metadata": {},
     "outputs": [
      {
       "output_type": "pyout",
       "prompt_number": 35,
       "text": [
        "['2010-3-23']"
       ]
      }
     ],
     "prompt_number": 35
    },
    {
     "cell_type": "markdown",
     "metadata": {},
     "source": [
      "It worked, but that regex is getting long and hard to read. And days could have just one character too. We'd have to combine four of these to cover all the combinations of one/two digit months and one/two digit days. Maybe instead 'or'ing the whole regex we can 'or' just the month:"
     ]
    },
    {
     "cell_type": "code",
     "collapsed": false,
     "input": [
      "line = 'Stratford-on-Avon 2010-3-23 1324.4'\n",
      "re.findall('\\d\\d\\d\\d-\\d|\\d\\d-\\d\\d', line)"
     ],
     "language": "python",
     "metadata": {},
     "outputs": [
      {
       "output_type": "pyout",
       "prompt_number": 36,
       "text": [
        "['2010-3']"
       ]
      }
     ],
     "prompt_number": 36
    },
    {
     "cell_type": "markdown",
     "metadata": {},
     "source": [
      "Not quite. In this case the '`|`' is splitting the regex and matching either '`####-#`' or '`##-##`'. However, this can be fix this by putting brackets around the month part of the regex:"
     ]
    },
    {
     "cell_type": "code",
     "collapsed": false,
     "input": [
      "line = 'Stratford-on-Avon 2010-3-23 1324.4'\n",
      "re.findall('\\d\\d\\d\\d-[\\d|\\d\\d]-\\d\\d', line)"
     ],
     "language": "python",
     "metadata": {},
     "outputs": [
      {
       "output_type": "pyout",
       "prompt_number": 37,
       "text": [
        "['2010-3-23']"
       ]
      }
     ],
     "prompt_number": 37
    },
    {
     "cell_type": "markdown",
     "metadata": {},
     "source": [
      "Now the '`|`' is only applied within the brackets."
     ]
    },
    {
     "cell_type": "markdown",
     "metadata": {},
     "source": [
      "### Repetition\n",
      "\n",
      "When thinking about a date like the ones above you're really looking for four digits, a dash, one or two digits, a dash, and one or two digits. In the regex language it's possible to specify those repetitions instead of writing out four '`\\d`' sequences or using the '`|`' operator. Here's how to do that:"
     ]
    },
    {
     "cell_type": "code",
     "collapsed": false,
     "input": [
      "line = 'Stratford-on-Avon 2010-3-23 1324.4'\n",
      "re.findall('\\d{4}-\\d{1,2}-\\d{1,2}', line)"
     ],
     "language": "python",
     "metadata": {},
     "outputs": [
      {
       "output_type": "pyout",
       "prompt_number": 38,
       "text": [
        "['2010-3-23']"
       ]
      }
     ],
     "prompt_number": 38
    },
    {
     "cell_type": "markdown",
     "metadata": {},
     "source": [
      "The number of repetitions goes in curly braces after whatever is being repeated. '`\\d{4}`' means 'look for four digits' and '`\\d{1,2}`' means 'look for one or two digits'."
     ]
    },
    {
     "cell_type": "markdown",
     "metadata": {},
     "source": [
      "### Congratulations!\n",
      "\n",
      "You can now use regular expressions to extract a date from a string in a way that can handle some different formats, and regular expressions are doing all the hard work for you. Now let's look at how to extract all of the information from the line: location, date, and evil level."
     ]
    },
    {
     "cell_type": "markdown",
     "metadata": {},
     "source": [
      "## Extracting Everything\n",
      "\n",
      "We can now extract the date from the lines of our files, but we'd like to extract *all* the information from each line, including the location, date, and evil level.\n",
      "\n",
      "Let's see the date extraction again:"
     ]
    },
    {
     "cell_type": "code",
     "collapsed": false,
     "input": [
      "print data1[0]"
     ],
     "language": "python",
     "metadata": {},
     "outputs": [
      {
       "output_type": "stream",
       "stream": "stdout",
       "text": [
        "Baker 1 2009-11-17       1223.0\n"
       ]
      }
     ],
     "prompt_number": 41
    },
    {
     "cell_type": "code",
     "collapsed": false,
     "input": [
      "line = 'Baker 1 2009-11-17       1223.0'\n",
      "re.findall('\\d{4}-\\d{1,2}-\\d{1,2}', line)"
     ],
     "language": "python",
     "metadata": {},
     "outputs": [
      {
       "output_type": "pyout",
       "prompt_number": 42,
       "text": [
        "['2009-11-17']"
       ]
      }
     ],
     "prompt_number": 42
    },
    {
     "cell_type": "markdown",
     "metadata": {},
     "source": [
      "The next step to extracting everything will be to expand this regex so that it matches everything on every line. Just as we thought about the *pattern* for the date, let's think about the pattern for a whole line: any text, white space, a date, white space, a floating point number. (To start with let's not worry about the number, for simplicity we'll treat it as if it is also any text.) What's a regex for any text?\n",
      "\n",
      "Temember the curly braces that allow us to specify a specific number of repetitions? Well it's also possible to specify *any* number of repetitions. A '`*`' means 'zero or more repetitions' and a '`+`' means 'one or more repetitions'. And remember the '`.`' from earlier that matches any single character? If we combine the dot and star/plus we can make a regex that basically means 'any text'!\n",
      "\n",
      "For example:"
     ]
    },
    {
     "cell_type": "code",
     "collapsed": false,
     "input": [
      "re.findall('.*', 'A string of characters!')"
     ],
     "language": "python",
     "metadata": {},
     "outputs": [
      {
       "output_type": "pyout",
       "prompt_number": 45,
       "text": [
        "['A string of characters!', '']"
       ]
      }
     ],
     "prompt_number": 45
    },
    {
     "cell_type": "markdown",
     "metadata": {},
     "source": [
      "Here we can see that '`.*`' even matches an empty string, since it matches zero or more things."
     ]
    },
    {
     "cell_type": "code",
     "collapsed": false,
     "input": [
      "re.findall('.+', 'A string of characters!')"
     ],
     "language": "python",
     "metadata": {},
     "outputs": [
      {
       "output_type": "pyout",
       "prompt_number": 46,
       "text": [
        "['A string of characters!']"
       ]
      }
     ],
     "prompt_number": 46
    },
    {
     "cell_type": "markdown",
     "metadata": {},
     "source": [
      "While '`.+`' only matches strings with at least one thing in them."
     ]
    },
    {
     "cell_type": "code",
     "collapsed": false,
     "input": [],
     "language": "python",
     "metadata": {},
     "outputs": []
    }
   ],
   "metadata": {}
  }
 ]
}