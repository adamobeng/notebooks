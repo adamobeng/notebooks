{
 "metadata": {
  "name": "regex"
 },
 "nbformat": 3,
 "nbformat_minor": 0,
 "worksheets": [
  {
   "cells": [
    {
     "cell_type": "markdown",
     "metadata": {},
     "source": [
      "# Regular Expressions\n",
      "\n",
      "[Regular expressions](http://en.wikipedia.org/wiki/Regular_expressions) (or regex) are a powerful tool for working with text.\n",
      "Regex show up all over the place: at the command line with tools like [grep](http://en.wikipedia.org/wiki/Grep) and in many programming languages, especially scripting languages. \n",
      "Here we'll be demonstrating the use of regex in Python.\n",
      "\n",
      "Python is pretty good for working with strings even without regex. \n",
      "See for example all of the [string methods](http://docs.python.org/library/stdtypes.html#string-methods) available. \n",
      "With Python strings you can do text search and replace in much the same way you do in a word processor.\n",
      "For example, you can search for the string 'spma' in a larger string and replace it with 'spam' using the [replace](http://docs.python.org/library/stdtypes.html#str.replace) method.\n",
      "This is limited to searching for literal strings, though. \n",
      "Sometimes you want to search for a *pattern*, for example a date in the format '##/##/####' where you don't know the actual values.\n",
      "That's where regex can help."
     ]
    },
    {
     "cell_type": "markdown",
     "metadata": {},
     "source": [
      "As an example, suppose you need to process a bunch of data files. Each file contains the same type of measurements, but they've been recorded in a variety of formats. The first data file looks like this (these are measurements of background evil levels):"
     ]
    },
    {
     "cell_type": "code",
     "collapsed": false,
     "input": [
      "# Location Date Evil\n",
      "data1 = ['Baker 1 2009-11-17 1223.0',\n",
      "         'Baker 1 2010-06-24 1122.7',\n",
      "         'Baker 2 2009-07-24 2819.0',\n",
      "         'Baker 2 2010-08-25 2971.6',\n",
      "         'Baker 1 2011-01-05 1410.0',\n",
      "         'Baker 2 2010-09-04 4671.6']"
     ],
     "language": "python",
     "metadata": {},
     "outputs": [],
     "prompt_number": 1
    },
    {
     "cell_type": "markdown",
     "metadata": {},
     "source": [
      "While a second file looks like this:"
     ]
    },
    {
     "cell_type": "code",
     "collapsed": false,
     "input": [
      "# Location/Date/Evil\n",
      "data2 = ['Davison/May 23, 2010/1724.7',\n",
      "         'Pertwee/May 24, 2010/2103.8',\n",
      "         'Davison/June 19, 2010/1731.9',\n",
      "         'Davison/July 6, 2010/2010.7',\n",
      "         'Pertwee/Aug 4, 2010/1731.3',\n",
      "         'Pertwee/Sept 3, 2010/4981.0']"
     ],
     "language": "python",
     "metadata": {},
     "outputs": [],
     "prompt_number": 2
    },
    {
     "cell_type": "markdown",
     "metadata": {},
     "source": [
      "And a third file looks like this:"
     ]
    },
    {
     "cell_type": "code",
     "collapsed": false,
     "input": [
      "# Date (Location) Evil\n",
      "data3 = ['May 29 2010 (Hartnell) 1029.3',\n",
      "         'May 30 2010 (Hartnell) 1119.2',\n",
      "         'June 1 2010 (Hartnell) 1319.4',\n",
      "         'May 29 2010 (Troughton) 1419.3',\n",
      "         'May 30 2010 (Troughton) 1420.0',\n",
      "         'June 1 2010 (Troughton) 1419.8']"
     ],
     "language": "python",
     "metadata": {},
     "outputs": [],
     "prompt_number": 3
    },
    {
     "cell_type": "markdown",
     "metadata": {},
     "source": [
      "One strategy for processing this data would be to write a separate reader for each file format that emits the data in a standardized way. But that ignores the many similarities between these records. You'd also have to know ahead of time what type of file each was so you could send it to the right reader. What if you could just write one reader that could quickly interpret a record and return the data in a uniform way? That's our goal with regular expressions.\n",
      "\n",
      "To get started let's consider one of the records in data1:"
     ]
    },
    {
     "cell_type": "code",
     "collapsed": false,
     "input": [
      "print data1[0]"
     ],
     "language": "python",
     "metadata": {},
     "outputs": [
      {
       "output_type": "stream",
       "stream": "stdout",
       "text": [
        "Baker 1 2009-11-17 1223.0\n"
       ]
      }
     ],
     "prompt_number": 4
    },
    {
     "cell_type": "markdown",
     "metadata": {},
     "source": [
      "## Extracting the Date\n",
      "\n",
      "Say you want to extract just the date. A common strategy for splitting data fields in strings is to use the [split method](http://docs.python.org/library/stdtypes.html#str.split), but here the location name 'Baker 1' contains a space so it will be split too:"
     ]
    },
    {
     "cell_type": "code",
     "collapsed": false,
     "input": [
      "print data1[0].split()"
     ],
     "language": "python",
     "metadata": {},
     "outputs": [
      {
       "output_type": "stream",
       "stream": "stdout",
       "text": [
        "['Baker', '1', '2009-11-17', '1223.0']\n"
       ]
      }
     ],
     "prompt_number": 5
    },
    {
     "cell_type": "markdown",
     "metadata": {},
     "source": [
      "We could probably figure something out using basic Python but dealing with the different possibilties will get complicated fast. The dates in these data records follow a consistent pattern: four digit year, dash, two digit month, dash, two digit day. If we could search for that pattern we get the date right away. With regex we can specify a *pattern* to look for, not just a literal string.\n",
      "\n",
      "Regex are written as strings in which some characters have special meanings (much like format strings). As you'll see regex strings can look cryptic and they are sort of like a language unto themselves. But they can be read one piece at a time and that's how we'll start building them."
     ]
    },
    {
     "cell_type": "markdown",
     "metadata": {},
     "source": [
      "### The Dot\n",
      "Let's look at the date pattern again: four characters, dash, two characters, dash, two characters. In regular expressions the character '`.`' (dot) stands for any character, so we can represent the date pattern as '`....-..-..`'. Let's see how that works in practice:"
     ]
    },
    {
     "cell_type": "code",
     "collapsed": false,
     "input": [
      "# to use regular expressions in Python we import the re module\n",
      "import re\n",
      "\n",
      "# most of the functions in re are called with the regex pattern first,\n",
      "# followed by the string in which to search\n",
      "re.findall('....-..-..', data1[0])"
     ],
     "language": "python",
     "metadata": {},
     "outputs": [
      {
       "output_type": "pyout",
       "prompt_number": 11,
       "text": [
        "['2009-11-17']"
       ]
      }
     ],
     "prompt_number": 11
    },
    {
     "cell_type": "markdown",
     "metadata": {},
     "source": [
      "Hey, that worked! `re.findall` returns a list of all the substrings that match the regex. "
     ]
    },
    {
     "cell_type": "markdown",
     "metadata": {},
     "source": [
      "### Matching Just Digits\n",
      "But what if there is a location name with the same pattern, say 'Stratford-on-Avon'?"
     ]
    },
    {
     "cell_type": "code",
     "collapsed": false,
     "input": [
      "line = 'Stratford-on-Avon 2010-03-23 1324.4'\n",
      "re.findall('....-..-..', line)"
     ],
     "language": "python",
     "metadata": {},
     "outputs": [
      {
       "output_type": "pyout",
       "prompt_number": 14,
       "text": [
        "['ford-on-Av', '2010-03-23']"
       ]
      }
     ],
     "prompt_number": 14
    },
    {
     "cell_type": "markdown",
     "metadata": {},
     "source": [
      "The dot character matches *anything* (even spaces), so it has picked up the substring `'ford-on-Av'` since it has four characters, a dash, two characters, a dash, and two more characaters. One way to get around this is to be more specific. The date doesn't have just any characters, it only has numbers. To match a number in a regex we can use the special character '`\\d`', so let's try replacing the dots with '`\\d`':"
     ]
    },
    {
     "cell_type": "code",
     "collapsed": false,
     "input": [
      "line = 'Stratford-on-Avon 2010-03-23 1324.4'\n",
      "re.findall('\\d\\d\\d\\d-\\d\\d-\\d\\d', line)"
     ],
     "language": "python",
     "metadata": {},
     "outputs": [
      {
       "output_type": "pyout",
       "prompt_number": 17,
       "text": [
        "['2010-03-23']"
       ]
      }
     ],
     "prompt_number": 17
    },
    {
     "cell_type": "markdown",
     "metadata": {},
     "source": [
      "Back on track! Regex are full of special symbols like this. We'll cover some of them here, but not all of them. To learn more you can read about [regular expression syntax](http://docs.python.org/library/re.html#regular-expression-syntax) in the Python documentation and in many places on the web. (Try a web search for 'regex cheat sheet'.)"
     ]
    },
    {
     "cell_type": "markdown",
     "metadata": {},
     "source": [
      "### Or and Groups\n",
      "\n",
      "Not all month and day numbers have two numbers, we've been assuming that, for example, March is always written as '`03`' with a leading zero. But whowever typed up all these datasets probably wasn't that careful and might have forgotten to do that all the time. What if the date is written as '`2010-3-23`'?"
     ]
    },
    {
     "cell_type": "code",
     "collapsed": false,
     "input": [
      "line = 'Stratford-on-Avon 2010-3-23 1324.4'\n",
      "re.findall('\\d\\d\\d\\d-\\d\\d-\\d\\d', line)"
     ],
     "language": "python",
     "metadata": {},
     "outputs": [
      {
       "output_type": "pyout",
       "prompt_number": 19,
       "text": [
        "[]"
       ]
      }
     ],
     "prompt_number": 19
    },
    {
     "cell_type": "markdown",
     "metadata": {},
     "source": [
      "That didn't match anything because our regex is looking for two characters in the month. One thing we can do is have two regex patterns, one for when the month has one day and another for when the month has two characters. Regex patterns can be combined with the '`|`' character and the regex '`x|y`' means \"match either '`x`' or '`y`'\". Let's try it with the date:"
     ]
    },
    {
     "cell_type": "code",
     "collapsed": false,
     "input": [
      "line = 'Stratford-on-Avon 2010-3-23 1324.4'\n",
      "re.findall('\\d\\d\\d\\d-\\d-\\d\\d|\\d\\d\\d\\d-\\d\\d-\\d\\d', line)"
     ],
     "language": "python",
     "metadata": {},
     "outputs": [
      {
       "output_type": "pyout",
       "prompt_number": 20,
       "text": [
        "['2010-3-23']"
       ]
      }
     ],
     "prompt_number": 20
    },
    {
     "cell_type": "markdown",
     "metadata": {},
     "source": [
      "It worked, but that regex is getting long and hard to read. And days could have just one character too. We'd have to combine four of these to cover all the combinations of one/two digit months and one/two digit days. Maybe instead 'or'ing the whole regex we can 'or' just the month:"
     ]
    },
    {
     "cell_type": "code",
     "collapsed": false,
     "input": [
      "line = 'Stratford-on-Avon 2010-3-23 1324.4'\n",
      "re.findall('\\d\\d\\d\\d-\\d|\\d\\d-\\d\\d', line)"
     ],
     "language": "python",
     "metadata": {},
     "outputs": [
      {
       "output_type": "pyout",
       "prompt_number": 21,
       "text": [
        "['2010-3']"
       ]
      }
     ],
     "prompt_number": 21
    },
    {
     "cell_type": "markdown",
     "metadata": {},
     "source": [
      "Not quite. In this case the '`|`' is splitting the regex and matching either '`####-#`' or '`##-##`'. However, this can be fix this by putting brackets around the month part of the regex:"
     ]
    },
    {
     "cell_type": "code",
     "collapsed": false,
     "input": [
      "line = 'Stratford-on-Avon 2010-3-23 1324.4'\n",
      "re.findall('\\d\\d\\d\\d-[\\d|\\d\\d]-\\d\\d', line)"
     ],
     "language": "python",
     "metadata": {},
     "outputs": [
      {
       "output_type": "pyout",
       "prompt_number": 26,
       "text": [
        "['2010-3-23']"
       ]
      }
     ],
     "prompt_number": 26
    },
    {
     "cell_type": "code",
     "collapsed": false,
     "input": [],
     "language": "python",
     "metadata": {},
     "outputs": []
    }
   ],
   "metadata": {}
  }
 ]
}